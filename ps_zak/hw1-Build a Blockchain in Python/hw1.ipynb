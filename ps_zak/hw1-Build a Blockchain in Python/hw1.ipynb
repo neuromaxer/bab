{
 "cells": [
  {
   "cell_type": "markdown",
   "metadata": {},
   "source": [
    "# Build a Blockchain! - Blockchain Design Exercises"
   ]
  },
  {
   "cell_type": "markdown",
   "metadata": {},
   "source": [
    "## HW1 - Build a Blockchain in Python\n",
    "\n",
    "#### Getting Started\n",
    "\n",
    "CS 198-077 Spring 2020 \n",
    "HW1-Build a Blockchain in Python\n",
    "\n",
    "Created by Omkar Shanbhag, Updated by Simon Guo\n",
    "\n",
    "This notebook is meant to be a short introduction to Blockchain implementations, aimed at helping us take the topics we learn about in fundamentals, and seeing how they translate to code. \n",
    "\n",
    "In this notebook we will implement various different aspects of Blockchain technology that we understand including: \n",
    "\n",
    "- The Blockchain Data Structure using OOP \n",
    "- A proof of work simulation \n",
    "- Understanding of the concept of difficulty of finding the next block hash \n",
    "- A simulation of multiple miners with varying computational powers \n",
    "- A bit of data analytics to see if what we've implemented makes sense "
   ]
  },
  {
   "cell_type": "code",
   "execution_count": 4,
   "metadata": {},
   "outputs": [],
   "source": [
    "#Import statements\n",
    "import hashlib as hasher \n",
    "import random as rand\n",
    "import time \n",
    "import datetime as date\n",
    "import ipyparallel as ipp\n",
    "import numpy as np\n",
    "import matplotlib.pyplot as plt"
   ]
  },
  {
   "cell_type": "markdown",
   "metadata": {},
   "source": [
    "# Blockchain Data Structure Design"
   ]
  },
  {
   "cell_type": "markdown",
   "metadata": {},
   "source": [
    "In this section we will define the class \"Block\" and create an init function that creates a new block given some parameters, as well as a function hash_block, that computes the hash of this block based on its class variables. \n",
    "\n",
    "The init function is implemented for you below and creates a block with the following specifications \n",
    "- Index --> the index of the block on the chain (zero indexed)\n",
    "- Timestamp --> time that the block was added on to the chain\n",
    "- data --> The data the block contains (Usually points to root of merkel tree, but we can fill it with whatever for this)\n",
    "- previous_hash --> The hash value of the previous block \n",
    "- hash --> hash of this block computed using the hash_block function\n",
    "- nonce --> the variable value that we change to alter the hash output (Default value = 0, irrelevant in this section)\n",
    "\n",
    "****QUESTION #1: Implement hash_block()****\n",
    "\n",
    "We need to implement the hash_block() which computes the hash value of this block based on how we initialize it. This function takes in no parameters. \n",
    "\n",
    "Desired Functionality:\n",
    "- Concatenate string representations of all the class variables \n",
    "- Computes the SHA256 hash of this concatenation \n",
    "\n",
    "-- HINTS --\n",
    "\n",
    "- use the first import statement!!! \n",
    "- initialize a new hasher\n",
    "- Look into the following words \n",
    "    - utf-8 encoding \n",
    "    - .update() function \n",
    "    - .hexdigest() function\n",
    "    - In order for the test function below to work properly, create the string concatenation in the following order with no spaces or any other characters in between \n",
    "       - index\n",
    "       - timestamp\n",
    "       - data\n",
    "       - previous block hash\n",
    "       - nonce\n",
    "     - If you want to do it another order that incorporates everything thats totally fine, but test function wont work!"
   ]
  },
  {
   "cell_type": "markdown",
   "metadata": {},
   "source": []
  },
  {
   "cell_type": "code",
   "execution_count": 18,
   "metadata": {},
   "outputs": [],
   "source": [
    "class Block:\n",
    "    def __init__(self, index, timestamp, data, previous_hash, nonce=0):\n",
    "        self.index = index\n",
    "        self.timestamp = timestamp\n",
    "        self.data = data\n",
    "        self.nonce = nonce #set to zero as default not applicable in first section \n",
    "        self.previous_hash = previous_hash\n",
    "        self.hash = self.hash_block()\n",
    "\n",
    "    def hash_block(self):\n",
    "        h = hasher.sha256()\n",
    "        h.update(str(self.index).encode())\n",
    "        h.update(str(self.timestamp).encode())\n",
    "        h.update(str(self.data).encode())\n",
    "        h.update(str(self.previous_hash).encode())\n",
    "        h.update(str(self.nonce).encode())\n",
    "        return h.hexdigest()\n",
    "        \n"
   ]
  },
  {
   "cell_type": "markdown",
   "metadata": {},
   "source": [
    "**TEST YOUR QUESTION 1 CODE HERE**\n",
    "\n",
    "Run the block of code below"
   ]
  },
  {
   "cell_type": "code",
   "execution_count": 19,
   "metadata": {},
   "outputs": [
    {
     "name": "stdout",
     "output_type": "stream",
     "text": [
      "2def27922fc1c67254a9cdb0c660b91abf9b135ad38fc13c7c77007448b824a0\n",
      "PASSED!!! Move on to next Question\n"
     ]
    }
   ],
   "source": [
    "def test_question_1(index, time, data, previous_hash):\n",
    "    new_block = Block(index, time, data, previous_hash)\n",
    "    print(new_block.hash)\n",
    "    check_string = '2def27922fc1c67254a9cdb0c660b91abf9b135ad38fc13c7c77007448b824a0'\n",
    "    print_statement = \"PASSED!!! Move on to next Question\" if str(new_block.hash) == check_string else \"FAILED!!! Try Again\"\n",
    "    print(print_statement)\n",
    "    \n",
    "time = '2019-10-17 00:37:35.256774'\n",
    "data = 'Machine Learning Blockchain AI'\n",
    "previous_hash = '6ffd1464f68ef4aeb385d399244efa19293ba5c842c464a82c02f8256ef71428'\n",
    "index = 0\n",
    "    \n",
    "test_question_1(index, time, data, previous_hash)"
   ]
  },
  {
   "cell_type": "markdown",
   "metadata": {},
   "source": [
    "**Functions for Building the Chain**\n",
    "\n",
    "Now that we have our class Block completed, lets figure out how to make a chain out of them. For a chain, we need to first have a function that creates a genesis block, which serves as the first block of our chain, and then create the function next_block() which builds a new block on top of a given block.\n",
    "\n",
    "create_genesis_block() has been implemented for you. It creates a block with the following specifications. \n",
    "- index = 0\n",
    "- timestamp = Now (whenever the function is being called) \n",
    "- data = \"Genesis Block\"\n",
    "- previous_hash = \"0\"\n",
    "\n",
    "**QUESTION #2: Implement next_block()**\n",
    "\n",
    "We need to implement the function next_block() which takes in 1 parameter:\n",
    "- Last_block = an instance of class Block that is the block that we're building our next block on top of \n",
    "- nonce = Dont do anything with this right now - just pass it in to the Block that you create using the default \n",
    "\n",
    "We want to implement the function so that it returns a new instance of the class Block with the following specifications\n",
    "- index = index of last_block + 1\n",
    "- timestamp = Now (whenever the function is being called)\n",
    "- data = \"Hey! I'm block {index}\"  (for example block w/ index 5 would have data: \"Hey! I'm block 5\")\n",
    "- previous_hash = hash of last_block"
   ]
  },
  {
   "cell_type": "code",
   "execution_count": 20,
   "metadata": {},
   "outputs": [],
   "source": [
    "#Creates the first block with current time and generic data\n",
    "def create_genesis_block():\n",
    "    # Manually construct a block with\n",
    "    # index zero and arbitrary previous hash\n",
    "    return Block(0, date.datetime.now(), \"Genesis Block\", \"0\")\n",
    "\n",
    "#Function that creates the next block, given the last block on the chain you want to mine on\n",
    "def next_block(last_block, nonce=0):\n",
    "    #Your code for QUESTION 2 here\n",
    "    new_index = last_block.index + 1\n",
    "    return Block(new_index, date.datetime.now(), f\"Hey! I'm block {new_index}\", last_block.hash)\n",
    "    "
   ]
  },
  {
   "cell_type": "markdown",
   "metadata": {},
   "source": [
    "**TEST YOUR QUESTION 2 CODE HERE**\n",
    "\n",
    "Run the block of code below"
   ]
  },
  {
   "cell_type": "code",
   "execution_count": 21,
   "metadata": {},
   "outputs": [
    {
     "name": "stdout",
     "output_type": "stream",
     "text": [
      "PASSED!!! Move on to next part\n"
     ]
    }
   ],
   "source": [
    "def test_question_2(genesis_block):\n",
    "    block_1 = next_block(genesis_block)\n",
    "    if block_1.index == 1 and block_1.data == \"Hey! I'm block 1\" and block_1.previous_hash == genesis_block.hash and str(type(block_1.timestamp)) == \"<class 'datetime.datetime'>\":\n",
    "        print(\"PASSED!!! Move on to next part\" )\n",
    "    else:\n",
    "        print(\"FAILED!!! Try again :(\")\n",
    "    \n",
    "\n",
    "genesis_block = create_genesis_block()\n",
    "test_question_2(genesis_block)"
   ]
  },
  {
   "cell_type": "markdown",
   "metadata": {},
   "source": [
    "**Spinning up a Chain**\n",
    "\n",
    "Now that we've created the data structure as well as the functions needed to create the chain, lets see how spinning up an actual instance of this would work. \n",
    "\n",
    "Below we initialize three different variables \n",
    "- blockchain - this is a python list which we initialize with one block inside (the genesis block) \n",
    "- previous_block - this points to our genesis block (since it references the first element in blockchain)\n",
    "- num_blocks - this specifies the number of additional blocks we want to add to our chain \n",
    "\n",
    "**QUESTION 3 complete_chain()**\n",
    "\n",
    "We want to complete the implementation of the function complete_chain(). This function takes in three inputs, which correspond to the initializations that we made. It returns nothing, however by the time we are done running it, the list 'blockchain' that we initialized earlier has been turned into an array of length num_blocks + 1 in which each element is an instance of class Block and each element's self.previous_hash == the previous element's self.hash. Therefore we have created our own mini blockchain!! \n",
    "\n",
    "The for loop and the print statements of complete_chain have been implemented for you, you need to add the statements that ***create a new block on top of previous_block, add it to the block chain, and edit previous block so that the for loop can continue correctly*** \n",
    "\n",
    "****HINT **** --> Literally just do all the things listed in the section immediately above in order \n",
    "\n",
    "If it works out, you should get the same number of print statements as num_blocks"
   ]
  },
  {
   "cell_type": "code",
   "execution_count": 24,
   "metadata": {
    "collapsed": true
   },
   "outputs": [
    {
     "name": "stdout",
     "output_type": "stream",
     "text": [
      "Block #1 has been added to the blockchain!\n",
      "Hash: cad4708b8745da3362f61db3a7c6bc52b802e9d658945f609d46eff7313eba8e\n",
      "\n",
      "Block #2 has been added to the blockchain!\n",
      "Hash: 25a19ad176e46fd218047a3343964370905f1ee9b922ccc871e9657dae532eb8\n",
      "\n",
      "Block #3 has been added to the blockchain!\n",
      "Hash: c36d12c4bea645cb29df97b7e76af68a01396a51bd05f51d75c8a580f279b93c\n",
      "\n",
      "Block #4 has been added to the blockchain!\n",
      "Hash: e098d9415fdaf11a6799202d34274415056e92ed55fab02af22cae9948d1536f\n",
      "\n",
      "Block #5 has been added to the blockchain!\n",
      "Hash: 421b53f6c9e4a0db3d8d849a617c6bbc2e2d574cc43b288e4e6436e8db299145\n",
      "\n",
      "Block #6 has been added to the blockchain!\n",
      "Hash: 0006a48925c63c6d3f8e49f37a90ad3958b78e4efeee6071f87d23d5fe19ff81\n",
      "\n",
      "Block #7 has been added to the blockchain!\n",
      "Hash: 851eed56c36d065c06f51b9da8e6115a067dd4fcac938306821159d2ab260362\n",
      "\n",
      "Block #8 has been added to the blockchain!\n",
      "Hash: 92a88a2292e61b3cc783cab9babc4a1fa061c0002f956dfc87eff2faceb8e639\n",
      "\n",
      "Block #9 has been added to the blockchain!\n",
      "Hash: 4d2375c70b900133d8f8fc2ab2085292b5b6f0cb7cd0122c3894ae4570a97c7d\n",
      "\n",
      "Block #10 has been added to the blockchain!\n",
      "Hash: 2371851fb4244e66720e4909ce28006bb710d11d702910fbf0bcbff90543ffbd\n",
      "\n",
      "Block #11 has been added to the blockchain!\n",
      "Hash: 58a4ca0460aa0157a683898e4ebf146ce24aef42d23c04a3780226a95d861c67\n",
      "\n",
      "Block #12 has been added to the blockchain!\n",
      "Hash: 5db6493e51a7d5debae5add8bd177737aa262a0eaaeee59d929ca0b36f843e55\n",
      "\n",
      "Block #13 has been added to the blockchain!\n",
      "Hash: b26e130d48e9612e625f0389911496b6aff963aed762407f33a3248a0c6db7f8\n",
      "\n",
      "Block #14 has been added to the blockchain!\n",
      "Hash: 5a4cd4058f1ebe7f82b4c91dc6f2b8249bb48a9ef18d85c0e8c6f431bf8a9118\n",
      "\n",
      "Block #15 has been added to the blockchain!\n",
      "Hash: ee3777040f80982608dd27a477fe0c64d25972b63fe450e2ceac59a8315a7fd3\n",
      "\n",
      "Block #16 has been added to the blockchain!\n",
      "Hash: 32dd894c5b03a6fd955b265c37d947ec338fbbcc55c4a0d6608afffb1943b80f\n",
      "\n",
      "Block #17 has been added to the blockchain!\n",
      "Hash: c14df412c4e4493add8f88cdc022643f77695809634bebc5fd5e09f2381a1e81\n",
      "\n",
      "Block #18 has been added to the blockchain!\n",
      "Hash: 4a3d356b4135ae766c9597a2767911dbeb47a89726d33578c31f385625f3c66d\n",
      "\n",
      "Block #19 has been added to the blockchain!\n",
      "Hash: d701d3406132c3de3f58e4a103652333bdd3da0cdd9f7614d2c38779b711adc9\n",
      "\n",
      "Block #20 has been added to the blockchain!\n",
      "Hash: f18d38c7794d0de03e2a194212b62387f9575f94abde7f593fab335ca3a0daab\n",
      "\n"
     ]
    }
   ],
   "source": [
    "# Create the blockchain and add the genesis block\n",
    "blockchain = [create_genesis_block()]\n",
    "\n",
    "#Create our initial reference to previous block which points to the genesis block\n",
    "previous_block = blockchain[0]\n",
    "\n",
    "# How many blocks should we add to the chain after the genesis block\n",
    "num_blocks = 20\n",
    "\n",
    "def complete_chain(num_blocks, blockchain, previous_block):\n",
    "    # Add blocks to the chain\n",
    "    for i in range(0, num_blocks):\n",
    "        #Your code for QUESTION 3 Here \n",
    "        block_to_add = next_block(previous_block)\n",
    "        blockchain.append(block_to_add)\n",
    "        \n",
    "        previous_block = blockchain[i+1]\n",
    "        \n",
    "        #Your code for QUESTION 3 ends Here\n",
    "        # Tell everyone about it!\n",
    "        print(\"Block #{} has been added to the blockchain!\".format(block_to_add.index))\n",
    "        print(\"Hash: {}\\n\".format(block_to_add.hash))\n",
    "\n",
    "complete_chain(num_blocks, blockchain, previous_block)"
   ]
  },
  {
   "cell_type": "markdown",
   "metadata": {},
   "source": [
    "**TEST YOUR QUESTION 3 CODE HERE**\n",
    "\n",
    "Run the block of code below"
   ]
  },
  {
   "cell_type": "code",
   "execution_count": 25,
   "metadata": {},
   "outputs": [
    {
     "name": "stdout",
     "output_type": "stream",
     "text": [
      "PASSED!!! Move on to the next Part\n"
     ]
    }
   ],
   "source": [
    "def test_question_3(blockchain, num_blocks):\n",
    "    correct = True\n",
    "    if len(blockchain) != num_blocks + 1:\n",
    "        correct = False\n",
    "    for i in range(len(blockchain)-1):\n",
    "        if blockchain[i + 1].previous_hash != blockchain[i].hash:\n",
    "            correct = False\n",
    "            break\n",
    "    print_statement = \"PASSED!!! Move on to the next Part\" if correct else \"FAILED!!! Try Again :(\"\n",
    "    print(print_statement)\n",
    "\n",
    "test_question_3(blockchain, num_blocks)"
   ]
  },
  {
   "cell_type": "markdown",
   "metadata": {},
   "source": [
    "# Proof of Work Simulation"
   ]
  },
  {
   "cell_type": "markdown",
   "metadata": {},
   "source": [
    "In this section we will be doing a simulation of the proof-of-work consensus mechanism that the Bitcoin Blockchain (among others) uses. Let us define some of the concepts that we will be dealing with in this section. \n",
    "\n",
    "**The Nonce** --> Randomly generated value that we add to our concatenation of our block to add variance to our hashes\n",
    "\n",
    "**Difficulty** --> Specified by the network (in theory, here it is specified by us). Defines the number of hashes that are valid out of all possible values. Higher difficulty indicates a lower number of valid hashes. \n",
    "\n",
    "**QUESTION 4: generate_nonce(), generate_difficulty_bound(), find_next_block()**\n",
    "\n",
    "**Part 1 - Description** \n",
    "\n",
    "The functions **generate_nonce()** and **generate_difficulty_bound()** have been implemented below for you. The first part of this question involves reading through, them understanding them completely, and writing a quick 1 - 2 line summary of what they are supposed to do and how they are implemented (write it in the space given, 2 cells below).\n",
    "\n",
    "**Part 2 - Implementation**\n",
    "\n",
    "The second part of this question is to complete the implementation of find_next_block(). This function's purpose is to try different blocks with the same data, index etc. but different nonces that satisfy the difficulty metric specified. The difficulty bound has already been generated for you and the first block has been created. You have to complete the implementation so that: \n",
    "- You find a nonce such that the hash of the block is less than the difficulty bound. \n",
    "- All data from new block has to be the same (including the timestamp, for simplicity purposes) and the only thing changing is the nonce \n",
    "- For our learning purposes, increment the hashes_tried parameter appropriately everytime you try a hash so that we can see the number of hashes tried and how this correlates to our difficulty value. \n",
    "\n",
    "**HINTS**\n",
    "- How do you turn a hash string into its hex prepresentation that you can compare???\n",
    "- if your implementation is working, you should notice something interesting about all the hashes of the blocks that you are getting when you run the code cell labeled \"Create Proof of work Blockchain\"**\n",
    "\n",
    "\n",
    "\n",
    "**you can test question 4 in the a few cells below this one, after running all the cells in between**"
   ]
  },
  {
   "cell_type": "code",
   "execution_count": 39,
   "metadata": {},
   "outputs": [],
   "source": [
    "import time\n",
    "\n",
    "# joins 'length' number of randomly generated digits together, and returns as a string\n",
    "def generate_nonce(length=20):\n",
    "    return ''.join([str(rand.randint(0, 9)) for i in range(length)])\n",
    "\n",
    "# \n",
    "def generate_difficulty_bound(difficulty=1):\n",
    "    diff_str = \"\"\n",
    "    for i in range(difficulty):\n",
    "        diff_str += '0'\n",
    "    for i in range(64 - difficulty):\n",
    "        diff_str += 'F'\n",
    "    diff_str = \"0x\" + diff_str  # \"0x\" needs to be added at the front to specify that it is a hex representation\n",
    "    return(int(diff_str, 16))  # Specifies that we want to create an integer of base 16 (as opposed to the default base 10)\n",
    "\n",
    "#Given a previous block and a difficulty metric, finds a nonce that results in a lower hash value\n",
    "def find_next_block(last_block, difficulty, nonce_length):\n",
    "    difficulty_bound = generate_difficulty_bound(difficulty)\n",
    "    start = time.process_time() \n",
    "    new_block = next_block(last_block)\n",
    "    hashes_tried = 1 \n",
    "    #Your code for QUESTION 4 Starts here \n",
    "    while int(new_block.hash, 16) >= difficulty_bound:\n",
    "        nonce = generate_nonce(nonce_length)\n",
    "        new_block = next_block(last_block, nonce)\n",
    "        hashes_tried += 1\n",
    "        \n",
    "    #Your code for QUESTION 4 Ends here \n",
    "    time_taken = time.process_time() - start\n",
    "    return(time_taken, hashes_tried, new_block)"
   ]
  },
  {
   "cell_type": "markdown",
   "metadata": {},
   "source": [
    "**QUESTION 4 Description Section**\n",
    "\n",
    "Describe the following functions: \n",
    "\n",
    "- generate_nonce(): randomly generates and concatenates n (length) digits\n",
    "\n",
    "- generate_difficulty_bound(): generates a number from 0 - 115792089237316195423570985008687907853269984665640564039457584007913129639935, depending on the difficulty set, by concatenating hexadecimal digits. The lower the difficulty, the more 'F's, i.e. the higher the output number; the higher the difficulty the more 0s, i.e. the lower the output number."
   ]
  },
  {
   "cell_type": "markdown",
   "metadata": {},
   "source": [
    "The cell below creates our proof of work blockchain in a similar way that we do in the earlier section. \n",
    "\n",
    "Some initializations:\n",
    "- blockchain_pow: Our new python list that signifies our proof of work blockchain, with the genesis block inside\n",
    "- previous_block: The first block to use as previous block to build upon\n",
    "- num_blocks: number of additional blocks to add to teh chain\n",
    "- difficulty: difficulty of the network \n",
    "- nonce_length: length of the randomly generated nonce"
   ]
  },
  {
   "cell_type": "markdown",
   "metadata": {},
   "source": [
    "### Create Proof of Work Blockchain "
   ]
  },
  {
   "cell_type": "code",
   "execution_count": 40,
   "metadata": {},
   "outputs": [
    {
     "name": "stdout",
     "output_type": "stream",
     "text": [
      "Block #1 has been added to the blockchain!\n",
      "1665 Hashes Tried!\n",
      "Time taken to find block: 0.04747531299999963\n",
      "Hash: 000ae50e7fde85999d6271d32a3a8045a7cc49600e8070037675a63123a69206\n",
      "\n",
      "Block #2 has been added to the blockchain!\n",
      "3952 Hashes Tried!\n",
      "Time taken to find block: 0.07276252200000055\n",
      "Hash: 000269c4aefc84d5913e01ae4d4e3fe3ecda121f5a9309fa588268e7376f31df\n",
      "\n",
      "Block #3 has been added to the blockchain!\n",
      "1253 Hashes Tried!\n",
      "Time taken to find block: 0.02125467599999986\n",
      "Hash: 0002ca96407e1f5ba523125332928da73e331cd2b054989bf9a7df70dd139840\n",
      "\n",
      "Block #4 has been added to the blockchain!\n",
      "3003 Hashes Tried!\n",
      "Time taken to find block: 0.050830413000000796\n",
      "Hash: 0007d80ec58743e26de369bff297a4a1c535dd7eb5d3bb6f74ecda338254a6da\n",
      "\n",
      "Block #5 has been added to the blockchain!\n",
      "3722 Hashes Tried!\n",
      "Time taken to find block: 0.06281863099999985\n",
      "Hash: 000b1712c586bc7314c0fd615fb238349a806cbbe53d4b278b25378c744bd91b\n",
      "\n",
      "Block #6 has been added to the blockchain!\n",
      "9837 Hashes Tried!\n",
      "Time taken to find block: 0.17065608399999999\n",
      "Hash: 000121d6263648248eba19d611ae65cac7003c3ef24862cd0b70e99fc02569b6\n",
      "\n",
      "Block #7 has been added to the blockchain!\n",
      "8510 Hashes Tried!\n",
      "Time taken to find block: 0.14471911299999984\n",
      "Hash: 000bc5e1b97490a037350dc778a88e70e5914f56cd9d9fba96bcdc84f3bd2af3\n",
      "\n",
      "Block #8 has been added to the blockchain!\n",
      "8530 Hashes Tried!\n",
      "Time taken to find block: 0.1481777830000004\n",
      "Hash: 000894d12e77bdbf1eb6255d25c8785b3935bdd4e9d389fdbb3f4579ed869e07\n",
      "\n",
      "Block #9 has been added to the blockchain!\n",
      "2539 Hashes Tried!\n",
      "Time taken to find block: 0.04435968399999979\n",
      "Hash: 00059e223bdd2c90d2921d34eb6d658f44f2f89728f44ac94051f356d94dfbe2\n",
      "\n",
      "Block #10 has been added to the blockchain!\n",
      "7686 Hashes Tried!\n",
      "Time taken to find block: 0.13488151200000065\n",
      "Hash: 0008f0b77eeda7e8e06f4b8c0c0f101489cdfa86ba3e1bdbb02293c7ccfaed4b\n",
      "\n",
      "Block #11 has been added to the blockchain!\n",
      "2600 Hashes Tried!\n",
      "Time taken to find block: 0.04707587800000024\n",
      "Hash: 000fbcfcd383d9fdc2265ae3cd38b0068b8190da1ba905237e16758edc85faa7\n",
      "\n",
      "Block #12 has been added to the blockchain!\n",
      "1564 Hashes Tried!\n",
      "Time taken to find block: 0.02791138400000026\n",
      "Hash: 0007c25d7406696858ca73ba9a503a0ec9f79b3d170cd9d9a80207bac79b75c1\n",
      "\n",
      "Block #13 has been added to the blockchain!\n",
      "1198 Hashes Tried!\n",
      "Time taken to find block: 0.021641382999999514\n",
      "Hash: 00045b2984869264888b9ec277df4d8dc3e80358614f9bda5b13123aeef9e73d\n",
      "\n",
      "Block #14 has been added to the blockchain!\n",
      "24890 Hashes Tried!\n",
      "Time taken to find block: 0.4536816099999994\n",
      "Hash: 000f3a9c94b2d924ea93a36ce222804bffcadc244bb9ed273ff3a4300dfdbb6f\n",
      "\n",
      "Block #15 has been added to the blockchain!\n",
      "1859 Hashes Tried!\n",
      "Time taken to find block: 0.03366086399999979\n",
      "Hash: 000636a3ac4191885076c17ea90f1a8355f3023474fd09c47cc3eab449d28156\n",
      "\n",
      "Block #16 has been added to the blockchain!\n",
      "89 Hashes Tried!\n",
      "Time taken to find block: 0.001539390999999668\n",
      "Hash: 0005cdb7cd3d389d568c3d91b38f5ecf20f87873af5058453d4c5a8dfac85c30\n",
      "\n",
      "Block #17 has been added to the blockchain!\n",
      "327 Hashes Tried!\n",
      "Time taken to find block: 0.006104515999999727\n",
      "Hash: 000ea81a09967f73bbe7b31f2b8e64a04126db2f6c9047aac84b0395cac44f2c\n",
      "\n",
      "Block #18 has been added to the blockchain!\n",
      "233 Hashes Tried!\n",
      "Time taken to find block: 0.003987418000000353\n",
      "Hash: 000d095143aeff426a2c205520e72b376c75538de82e4039cee4bf5aa17227c5\n",
      "\n",
      "Block #19 has been added to the blockchain!\n",
      "1504 Hashes Tried!\n",
      "Time taken to find block: 0.027025559000000143\n",
      "Hash: 000a3bf03a28fdaeae6235f8b6cbbe8cfdee7d4f646e70fc2ad315d3b30ca7aa\n",
      "\n",
      "Block #20 has been added to the blockchain!\n",
      "552 Hashes Tried!\n",
      "Time taken to find block: 0.009858357000000595\n",
      "Hash: 000f53ed5043a4e72f4dd8a1523e4c14107e5bc91e95de098a55a86107317100\n",
      "\n"
     ]
    }
   ],
   "source": [
    "# Create the blockchain and add the genesis block\n",
    "blockchain_pow = [create_genesis_block()]\n",
    "\n",
    "#Create our initial reference to previous block which points to the genesis block\n",
    "previous_block = blockchain_pow[0]\n",
    "\n",
    "# How many blocks should we add to the chain after genesis block\n",
    "num_blocks = 20\n",
    "\n",
    "#magnitude of difficulty of hash - number of zeroes that must be in the beginning of the hash\n",
    "difficulty = 3\n",
    "\n",
    "#length of nonce that will be generated and added\n",
    "nonce_length = 20\n",
    "\n",
    "# Add blocks to the chain based on difficulty with nonces of length nonce_length\n",
    "def create_pow_blockchain(num_blocks, difficulty, blockchain_pow, previous_block, nonce_length, print_data=1):\n",
    "    hash_array = []\n",
    "    time_array = []\n",
    "    for i in range(0, num_blocks):\n",
    "        time_taken, hashes_tried, block_to_add = find_next_block(previous_block, difficulty, nonce_length)\n",
    "        blockchain_pow.append(block_to_add)\n",
    "        previous_block = block_to_add\n",
    "        hash_array.append(hashes_tried)\n",
    "        time_array.append(time_taken)\n",
    "        # Tell everyone about it!\n",
    "        if print_data:\n",
    "            print(\"Block #{} has been added to the blockchain!\".format(block_to_add.index))\n",
    "            print(\"{} Hashes Tried!\".format(hashes_tried))\n",
    "            print(\"Time taken to find block: {}\".format(time_taken))\n",
    "            print(\"Hash: {}\\n\".format(block_to_add.hash))\n",
    "    return(hash_array, time_array)\n",
    "\n",
    "hash_array, time_array = create_pow_blockchain(num_blocks, difficulty, blockchain_pow, previous_block, nonce_length)"
   ]
  },
  {
   "cell_type": "markdown",
   "metadata": {},
   "source": [
    "**TEST YOUR QUESTION 4 CODE HERE**\n",
    "\n",
    "Run the block of code below"
   ]
  },
  {
   "cell_type": "code",
   "execution_count": 41,
   "metadata": {},
   "outputs": [
    {
     "name": "stdout",
     "output_type": "stream",
     "text": [
      "PASSED!!! Move on to the next Part\n"
     ]
    }
   ],
   "source": [
    "def test_question_4(blockchain_pow, num_blocks):\n",
    "    correct = True\n",
    "    bound = generate_difficulty_bound(difficulty)\n",
    "    if len(blockchain_pow) != num_blocks + 1:\n",
    "        correct = False\n",
    "    for i in range(len(blockchain_pow) - 1):\n",
    "        if blockchain_pow[i + 1].previous_hash != blockchain_pow[i].hash:\n",
    "            correct = False\n",
    "            break\n",
    "        if int(blockchain_pow[i + 1].hash, 16) > bound:\n",
    "            correct = False\n",
    "            break\n",
    "    print_statement = \"PASSED!!! Move on to the next Part\" if correct else \"FAILED!!! Try Again :(\"\n",
    "    print(print_statement)\n",
    "            \n",
    "test_question_4(blockchain_pow, num_blocks)"
   ]
  },
  {
   "cell_type": "markdown",
   "metadata": {},
   "source": [
    "Once you have passed the above test case, you can do things like play around with the difficulties and nonce lengths and seeing that happens "
   ]
  },
  {
   "cell_type": "markdown",
   "metadata": {},
   "source": [
    "# Note: The sections below are optional but super cool!"
   ]
  },
  {
   "cell_type": "markdown",
   "metadata": {},
   "source": [
    "# Distributed Network + Compute Power Simulation"
   ]
  },
  {
   "cell_type": "markdown",
   "metadata": {},
   "source": [
    "In this section, instead of simulating a single node that carries out all the proof of work calculations, we will create a bunch of different nodes that will all compete to find different blocks. These nodes will all have different compute powers that we will be able to specify. Below we will define the MinerNodeNaive class which has an init function to create an instance, as well as a try_hash function that allows it to try a hash and see if it works. "
   ]
  },
  {
   "cell_type": "code",
   "execution_count": 42,
   "metadata": {},
   "outputs": [],
   "source": [
    "#Naive miner class that races with other miners to see who can get a certain number of blocks first \n",
    "class MinerNodeNaive: \n",
    "    def __init__(self, name, compute):\n",
    "        self.name = name \n",
    "        self.compute = compute\n",
    "    \n",
    "    def try_hash(self, diff_value, chain):\n",
    "        last_block = chain[-1]\n",
    "        difficulty = generate_difficulty_bound(diff_value)\n",
    "        date_now = date.datetime.now()\n",
    "        this_index = last_block.index + 1\n",
    "        this_timestamp = date_now\n",
    "        this_data = \"Hey! I'm block \" + str(this_index)\n",
    "        this_hash = last_block.hash\n",
    "        new_block = Block(this_index, this_timestamp, this_data, this_hash)\n",
    "        if int(new_block.hash, 16) < difficulty:\n",
    "            chain.append(new_block)\n",
    "            # Tell everyone about it!\n",
    "            print(\"Block #{} has been added to the blockchain!\".format(new_block.index))\n",
    "            print(\"Block found by: {}\".format(self.name))\n",
    "            print(\"Hash: {}\\n\".format(new_block.hash))\n",
    "        "
   ]
  },
  {
   "cell_type": "markdown",
   "metadata": {},
   "source": [
    "**Question #5: Describe the Following Cells**\n",
    "\n",
    "In the next 4 cells I try to simulate a bunch of different miners with different compute powers. However this isn't completely indicative of how a real system works, and is limited by what I had to work with. Read through the code, and run all of the cells and explain what is happening in a paragrpah. Also explain how this is different from real world vanilla proof of work systems and how this simulation isn't completely accurate of what's actually happening while nodes race to find the next block. There is a cell at the bottom where you can enter your description.  "
   ]
  },
  {
   "cell_type": "code",
   "execution_count": 43,
   "metadata": {},
   "outputs": [],
   "source": [
    "#Initialize multiple miners on the network \n",
    "berkeley_Miner = MinerNodeNaive(\"Berkeley Miner\", 10)\n",
    "stanford_Miner = MinerNodeNaive(\"Stanford Miner\", 5)\n",
    "MIT_Miner = MinerNodeNaive(\"MIT Miner\", 2)\n",
    "UCLA_Miner = MinerNodeNaive(\"UCLA Miner\", 1)\n",
    "\n",
    "miner_array = [berkeley_Miner, stanford_Miner, MIT_Miner, UCLA_Miner]"
   ]
  },
  {
   "cell_type": "code",
   "execution_count": 44,
   "metadata": {},
   "outputs": [],
   "source": [
    "def create_compute_simulation(miner_array):\n",
    "    compute_array = []\n",
    "    for miner in miner_array:\n",
    "        for i in range(miner.compute):\n",
    "            compute_array.append(miner.name)\n",
    "    return(compute_array)\n",
    "\n",
    "compute_simulation_array = create_compute_simulation(miner_array)\n",
    "rand.shuffle(compute_simulation_array)"
   ]
  },
  {
   "cell_type": "code",
   "execution_count": 45,
   "metadata": {},
   "outputs": [],
   "source": [
    "chain_length = 20\n",
    "blockchain_distributed = [create_genesis_block()]\n",
    "genesis_block_dist = blockchain_distributed[0]\n",
    "chain_difficulty = [rand.randint(2,4) for i in range(chain_length)]"
   ]
  },
  {
   "cell_type": "code",
   "execution_count": 46,
   "metadata": {},
   "outputs": [
    {
     "name": "stdout",
     "output_type": "stream",
     "text": [
      "Block #1 has been added to the blockchain!\n",
      "Block found by: Berkeley Miner\n",
      "Hash: 00a4f3168e8fb2925b37f58824b106678f694b9135dd9c65ae308bab139582d6\n",
      "\n",
      "Block #2 has been added to the blockchain!\n",
      "Block found by: Berkeley Miner\n",
      "Hash: 005c23550c84046cd10050d09cac7b8daeb7fbda3aeed08a64d458c84528a198\n",
      "\n",
      "Block #3 has been added to the blockchain!\n",
      "Block found by: UCLA Miner\n",
      "Hash: 0000c8c784e6b773e2b64b1f796743d9192fd2cb3376ab43a5de2eb51edd225a\n",
      "\n",
      "Block #4 has been added to the blockchain!\n",
      "Block found by: Stanford Miner\n",
      "Hash: 000185c082ea3eeaf6318ab22bbc8f66021ce96cd9a62191666f9e5c1191ed38\n",
      "\n",
      "Block #5 has been added to the blockchain!\n",
      "Block found by: Berkeley Miner\n",
      "Hash: 00006c31ddebf2de93b24df22bf777f30263d7f9bca7a01983961dab27947e81\n",
      "\n",
      "Block #6 has been added to the blockchain!\n",
      "Block found by: Berkeley Miner\n",
      "Hash: 0022e7d3eac7cc0644f2b1b88a9f51019178c5a1d5893cfcf3547cdaa192422b\n",
      "\n",
      "Block #7 has been added to the blockchain!\n",
      "Block found by: Berkeley Miner\n",
      "Hash: 0006a21103a47675f38e2993c1c97f43be46c36dc2ecb60b4b56dc58cd5d8c7f\n",
      "\n",
      "Block #8 has been added to the blockchain!\n",
      "Block found by: Berkeley Miner\n",
      "Hash: 00cb98d78152917b3725205b78e374567d6a43d1f8b26b6c105037b026ab9a36\n",
      "\n",
      "Block #9 has been added to the blockchain!\n",
      "Block found by: Berkeley Miner\n",
      "Hash: 0008eacb865f963158573c27320656c9d3d47d524f7af90ae636f07ed4ba0c04\n",
      "\n",
      "Block #10 has been added to the blockchain!\n",
      "Block found by: Berkeley Miner\n",
      "Hash: 000629d3250bb7b1b358e6fe6f1ffba3899d3ae19083ba0e292c52d78d8c1d07\n",
      "\n",
      "Block #11 has been added to the blockchain!\n",
      "Block found by: Stanford Miner\n",
      "Hash: 000a48ff8c0012a2ed40645a041b3c3f64b84da0c13b25c58859ac23698778f9\n",
      "\n",
      "Block #12 has been added to the blockchain!\n",
      "Block found by: Berkeley Miner\n",
      "Hash: 008230941b2ca4489ef113b692c98c0356d85241535b386168ca2dd6138fa02f\n",
      "\n",
      "Block #13 has been added to the blockchain!\n",
      "Block found by: Stanford Miner\n",
      "Hash: 0000b0851d7ab76eff00d820f20e1908ff058c52a9a3eca712482f35169a25ac\n",
      "\n",
      "Block #14 has been added to the blockchain!\n",
      "Block found by: Berkeley Miner\n",
      "Hash: 0000478f7cdaf1787c74f26e40f9a7628b1635953163023c5a2b91a3162bdb58\n",
      "\n",
      "Block #15 has been added to the blockchain!\n",
      "Block found by: Berkeley Miner\n",
      "Hash: 000065891e593433eb3b62c192a56f51eccd65f55755dd9ab9457842243fcf8d\n",
      "\n",
      "Block #16 has been added to the blockchain!\n",
      "Block found by: Stanford Miner\n",
      "Hash: 0000902c3afb6a009a727807b1f8c6ef5245428beff2ee225e1cd2b2a6c5cbc2\n",
      "\n",
      "Block #17 has been added to the blockchain!\n",
      "Block found by: Berkeley Miner\n",
      "Hash: 0003764adfc23a9f997509fd92f276fb15a931ee1c78929f06591794b8f3a116\n",
      "\n",
      "Block #18 has been added to the blockchain!\n",
      "Block found by: Berkeley Miner\n",
      "Hash: 000de1bf7e235df24320c527df51282aa72a771100100f3862791f90830964af\n",
      "\n",
      "Block #19 has been added to the blockchain!\n",
      "Block found by: Berkeley Miner\n",
      "Hash: 002382d9d2d0ef154e3051a8ac2682d256c2f01e1ef93f29e2477a0b52064a3f\n",
      "\n",
      "Block #20 has been added to the blockchain!\n",
      "Block found by: MIT Miner\n",
      "Hash: 00b708e815cadfea6dc9a3f7623e3568a829cd940b85ed18da4eb554ea1153d7\n",
      "\n"
     ]
    }
   ],
   "source": [
    "for i in range(len(chain_difficulty)): \n",
    "    while len(blockchain_distributed) < i + 2:\n",
    "        next_miner_str = rand.sample(compute_simulation_array, 1)[0] \n",
    "        next_miner = berkeley_Miner #random default (go bears)\n",
    "        for miner in miner_array:\n",
    "            if next_miner_str == miner.name:\n",
    "                next_miner = miner\n",
    "        next_miner.try_hash(chain_difficulty[i], blockchain_distributed)\n",
    "        "
   ]
  },
  {
   "cell_type": "markdown",
   "metadata": {},
   "source": [
    "**Question 5 Description Here**\n",
    "\n",
    "- Description: Create a list of 4 miners. For each new block shuffle the array taking the compute power into account, such that the probability of a miner being at the front of the list is proportional to it's compute power. Take the first miner in the list and let it try the hash, and if it's successful move to the next block, otherwise repeat. In a real system all miners try to find the right hash, and therefore the next block concurently, with their compute power determining how many "
   ]
  },
  {
   "cell_type": "markdown",
   "metadata": {
    "collapsed": true
   },
   "source": [
    "# Blockchain Data Analytics"
   ]
  },
  {
   "cell_type": "markdown",
   "metadata": {
    "collapsed": true
   },
   "source": [
    "Here we will use data analytics to analyze the number of hashes we need to try before we find a valid hash, given a difficulty level. Look through the code briefly (in depth is not necessary), run all of the cells, and answer the question at the bottom. (difficulty level 3 takes a bit of time so dont be alarmed if this next cell takes a bit of time to run). "
   ]
  },
  {
   "cell_type": "code",
   "execution_count": 47,
   "metadata": {},
   "outputs": [
    {
     "name": "stdout",
     "output_type": "stream",
     "text": [
      "Difficulty Level: 1 complete\n",
      "Difficulty Level: 2 complete\n",
      "Difficulty Level: 3 complete\n",
      "Difficulty Level: 4 complete\n"
     ]
    }
   ],
   "source": [
    "blockchain = [create_genesis_block()]\n",
    "previous_block = blockchain[0]\n",
    "num_blocks = 10\n",
    "\n",
    "#3 different types of difficulty to analyze\n",
    "difficulty_0 = 1\n",
    "difficulty_1 = 2\n",
    "difficulty_2 = 3\n",
    "difficulty_3 = 4\n",
    "\n",
    "nonce_length = 20\n",
    "\n",
    "hash_array_0, time_array_0 = create_pow_blockchain(num_blocks, difficulty_0, blockchain, previous_block, nonce_length, 0)\n",
    "print(\"Difficulty Level: {} complete\".format(difficulty_0))\n",
    "hash_array_1, time_array_1 = create_pow_blockchain(num_blocks, difficulty_1, blockchain, previous_block, nonce_length, 0)\n",
    "print(\"Difficulty Level: {} complete\".format(difficulty_1))\n",
    "hash_array_2, time_array_2 = create_pow_blockchain(num_blocks, difficulty_2, blockchain, previous_block, nonce_length, 0)\n",
    "print(\"Difficulty Level: {} complete\".format(difficulty_2))\n",
    "hash_array_3, time_array_3 = create_pow_blockchain(num_blocks, difficulty_3, blockchain, previous_block, nonce_length, 0)\n",
    "print(\"Difficulty Level: {} complete\".format(difficulty_3))"
   ]
  },
  {
   "cell_type": "code",
   "execution_count": 48,
   "metadata": {},
   "outputs": [],
   "source": [
    "mean_arr_hash = [np.mean(hash_array_0), np.mean(hash_array_1), np.mean(hash_array_2), np.mean(hash_array_3)]\n",
    "mean_arr_time = [np.mean(time_array_0), np.mean(time_array_1), np.mean(time_array_2), np.mean(time_array_3)]"
   ]
  },
  {
   "cell_type": "code",
   "execution_count": 49,
   "metadata": {},
   "outputs": [
    {
     "data": {
      "image/png": "[encoded data removed]",
      "text/plain": [
       "<Figure size 432x288 with 1 Axes>"
      ]
     },
     "metadata": {
      "needs_background": "light"
     },
     "output_type": "display_data"
    }
   ],
   "source": [
    "plt.plot(mean_arr_hash)\n",
    "plt.show()"
   ]
  },
  {
   "cell_type": "code",
   "execution_count": 50,
   "metadata": {},
   "outputs": [
    {
     "data": {
      "image/png": "[encoded data removed]",
      "text/plain": [
       "<Figure size 432x288 with 1 Axes>"
      ]
     },
     "metadata": {
      "needs_background": "light"
     },
     "output_type": "display_data"
    }
   ],
   "source": [
    "plt.plot(mean_arr_time)\n",
    "plt.show()"
   ]
  },
  {
   "cell_type": "code",
   "execution_count": 51,
   "metadata": {},
   "outputs": [
    {
     "name": "stdout",
     "output_type": "stream",
     "text": [
      "Factor of difficulty increase from 1 to 2: 19.11875\n",
      "Factor of difficulty increase from 2 to 3: 11.200065380843414\n",
      "Factor of difficulty increase from 3 to 4: 13.834418143078135\n"
     ]
    }
   ],
   "source": [
    "diff_factor_1 = np.mean(hash_array_1)/np.mean(hash_array_0)\n",
    "diff_factor_2 = np.mean(hash_array_2)/np.mean(hash_array_1)\n",
    "diff_factor_3 = np.mean(hash_array_3)/np.mean(hash_array_2)\n",
    "print(\"Factor of difficulty increase from 1 to 2: {}\".format(diff_factor_1))\n",
    "print(\"Factor of difficulty increase from 2 to 3: {}\".format(diff_factor_2))\n",
    "print(\"Factor of difficulty increase from 3 to 4: {}\".format(diff_factor_3))"
   ]
  },
  {
   "cell_type": "markdown",
   "metadata": {},
   "source": [
    "**Question 6: This one is simple**\n",
    "\n",
    "Look at the factor of difficulty increase from each level to the subsequent level, printed from the cell above.\n",
    "\n",
    "What should the factor of difficulty increase be for each level: **Your answer Here** 16"
   ]
  },
  {
   "cell_type": "markdown",
   "metadata": {},
   "source": [
    "**Check Off**\n",
    "\n",
    "If you have filled out all the skeleton code and put down your answers for the questions, let any of the instructor know and we will check you off!\n",
    "\n",
    "If you cannot finish it this class, you have until next week's class to finish check off and earn points.\n"
   ]
  }
 ],
 "metadata": {
  "kernelspec": {
   "display_name": "Python 3 (ipykernel)",
   "language": "python",
   "name": "python3"
  },
  "language_info": {
   "codemirror_mode": {
    "name": "ipython",
    "version": 3
   },
   "file_extension": ".py",
   "mimetype": "text/x-python",
   "name": "python",
   "nbconvert_exporter": "python",
   "pygments_lexer": "ipython3",
   "version": "3.10.4"
  }
 },
 "nbformat": 4,
 "nbformat_minor": 2
}
