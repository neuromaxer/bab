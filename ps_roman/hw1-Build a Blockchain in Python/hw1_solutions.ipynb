{
 "cells": [
  {
   "cell_type": "markdown",
   "metadata": {},
   "source": [
    "# Build a Blockchain! - Blockchain Design Exercises"
   ]
  },
  {
   "cell_type": "markdown",
   "metadata": {
    "pycharm": {
     "name": "#%% md\n"
    }
   },
   "source": [
    "## HW1 - Build a Blockchain in Python\n",
    "\n",
    "#### Getting Started\n",
    "\n",
    "CS 198-077 Spring 2020\n",
    "HW1-Build a Blockchain in Python\n",
    "\n",
    "Created by Omkar Shanbhag, Updated by Simon Guo\n",
    "\n",
    "This notebook is meant to be a short introduction to Blockchain implementations, aimed at helping us take the topics we learn about in fundamentals, and seeing how they translate to code.\n",
    "\n",
    "In this notebook we will implement various different aspects of Blockchain technology that we understand including:\n",
    "\n",
    "- The Blockchain Data Structure using OOP\n",
    "- A proof of work simulation\n",
    "- Understanding of the concept of difficulty of finding the next block hash\n",
    "- A simulation of multiple miners with varying computational powers\n",
    "- A bit of data analytics to see if what we've implemented makes sense"
   ]
  },
  {
   "cell_type": "code",
   "execution_count": 129,
   "metadata": {},
   "outputs": [],
   "source": [
    "#Import statements\n",
    "from __future__ import annotations\n",
    "\n",
    "import datetime\n",
    "import hashlib as hasher\n",
    "import random as rand\n",
    "import time\n",
    "import datetime as date\n",
    "import ipyparallel as ipp\n",
    "import numpy as np\n",
    "import matplotlib.pyplot as plt"
   ]
  },
  {
   "cell_type": "markdown",
   "metadata": {},
   "source": [
    "# Blockchain Data Structure Design"
   ]
  },
  {
   "cell_type": "markdown",
   "metadata": {},
   "source": [
    "In this section we will define the class \"Block\" and create an init function that creates a new block given some parameters, as well as a function hash_block, that computes the hash of this block based on its class variables.\n",
    "\n",
    "The init function is implemented for you below and creates a block with the following specifications\n",
    "- Index --> the index of the block on the chain (zero indexed)\n",
    "- Timestamp --> time that the block was added on to the chain\n",
    "- data --> The data the block contains (Usually points to root of merkel tree, but we can fill it with whatever for this)\n",
    "- previous_hash --> The hash value of the previous block\n",
    "- hash --> hash of this block computed using the hash_block function\n",
    "- nonce --> the variable value that we change to alter the hash output (Default value = 0, irrelevant in this section)\n",
    "\n",
    "****QUESTION #1: Implement hash_block()****\n",
    "\n",
    "We need to implement the hash_block() which computes the hash value of this block based on how we initialize it. This function takes in no parameters.\n",
    "\n",
    "Desired Functionality:\n",
    "- Concatenate string representations of all the class variables\n",
    "- Computes the SHA256 hash of this concatenation\n",
    "\n",
    "-- HINTS --\n",
    "\n",
    "- use the first import statement!!!\n",
    "- initialize a new hasher\n",
    "- Look into the following words\n",
    "    - utf-8 encoding\n",
    "    - .update() function\n",
    "    - .hexdigest() function\n",
    "    - In order for the test function below to work properly, create the string concatenation in the following order with no spaces or any other characters in between\n",
    "       - index\n",
    "       - timestamp\n",
    "       - data\n",
    "       - previous block hash\n",
    "       - nonce\n",
    "     - If you want to do it another order that incorporates everything thats totally fine, but test function wont work!"
   ]
  },
  {
   "cell_type": "markdown",
   "metadata": {},
   "source": []
  },
  {
   "cell_type": "code",
   "execution_count": 130,
   "metadata": {},
   "outputs": [],
   "source": [
    "import datetime\n",
    "from typing import Union\n",
    "\n",
    "\n",
    "class Block:\n",
    "    ENCODING: str = \"utf-8\"\n",
    "\n",
    "    def __init__(self, index, timestamp: Union[str, datetime.datetime], data, previous_hash, nonce=0):\n",
    "        self.index = index\n",
    "        self.timestamp = timestamp\n",
    "        self.data = data\n",
    "        self.nonce = nonce # set to zero as default not applicable in first section\n",
    "        self.previous_hash = previous_hash\n",
    "        self.hash = self.hash_block()\n",
    "\n",
    "    def hash_block(self) -> str:\n",
    "        timestamp: str = self.timestamp\n",
    "        if not isinstance(self.timestamp, str):\n",
    "            timestamp = self.timestamp.isoformat(\" \")\n",
    "        encoded_data = (\n",
    "            str(self.index) +\n",
    "            timestamp +\n",
    "            self.data +\n",
    "            self.previous_hash +\n",
    "            str(self.nonce)\n",
    "        ).encode(Block.ENCODING)\n",
    "        return hasher.sha256(encoded_data).hexdigest()\n"
   ]
  },
  {
   "cell_type": "markdown",
   "metadata": {},
   "source": [
    "**TEST YOUR QUESTION 1 CODE HERE**\n",
    "\n",
    "Run the block of code below"
   ]
  },
  {
   "cell_type": "code",
   "execution_count": 131,
   "metadata": {},
   "outputs": [
    {
     "name": "stdout",
     "output_type": "stream",
     "text": [
      "PASSED!!! Move on to next Question\n"
     ]
    }
   ],
   "source": [
    "def test_question_1(index, time, data, previous_hash):\n",
    "    new_block = Block(index, time, data, previous_hash)\n",
    "    check_string = '2def27922fc1c67254a9cdb0c660b91abf9b135ad38fc13c7c77007448b824a0'\n",
    "    print_statement = \"PASSED!!! Move on to next Question\" if str(new_block.hash) == check_string else \"FAILED!!! Try Again\"\n",
    "    print(print_statement)\n",
    "\n",
    "time = '2019-10-17 00:37:35.256774'\n",
    "data = 'Machine Learning Blockchain AI'\n",
    "previous_hash = '6ffd1464f68ef4aeb385d399244efa19293ba5c842c464a82c02f8256ef71428'\n",
    "index = 0\n",
    "\n",
    "test_question_1(index, time, data, previous_hash)"
   ]
  },
  {
   "cell_type": "markdown",
   "metadata": {},
   "source": [
    "**Functions for Building the Chain**\n",
    "\n",
    "Now that we have our class Block completed, lets figure out how to make a chain out of them. For a chain, we need to first have a function that creates a genesis block, which serves as the first block of our chain, and then create the function next_block() which builds a new block on top of a given block.\n",
    "\n",
    "create_genesis_block() has been implemented for you. It creates a block with the following specifications.\n",
    "- index = 0\n",
    "- timestamp = Now (whenever the function is being called)\n",
    "- data = \"Genesis Block\"\n",
    "- previous_hash = \"0\"\n",
    "\n",
    "**QUESTION #2: Implement next_block()**\n",
    "\n",
    "We need to implement the function next_block() which takes in 1 parameter:\n",
    "- Last_block = an instance of class Block that is the block that we're building our next block on top of\n",
    "- nonce = Dont do anything with this right now - just pass it in to the Block that you create using the default\n",
    "\n",
    "We want to implement the function so that it returns a new instance of the class Block with the following specifications\n",
    "- index = index of last_block + 1\n",
    "- timestamp = Now (whenever the function is being called)\n",
    "- data = \"Hey! I'm block {index}\"  (for example block w/ index 5 would have data: \"Hey! I'm block 5\")\n",
    "- previous_hash = hash of last_block"
   ]
  },
  {
   "cell_type": "code",
   "execution_count": 132,
   "metadata": {},
   "outputs": [],
   "source": [
    "from typing import Optional\n",
    "\n",
    "\n",
    "# Creates the first block with current time and generic data\n",
    "def create_genesis_block():\n",
    "    # Manually construct a block with index zero and arbitrary previous hash\n",
    "    return Block(\n",
    "        index=0,\n",
    "        timestamp=date.datetime.now(),\n",
    "        data=\"Genesis Block\",\n",
    "        previous_hash=\"0\",\n",
    "    )\n",
    "\n",
    "\n",
    "def next_block(last_block: Block, nonce: Optional[int] = 0) -> Block:\n",
    "    \"\"\"Create new Block instance based on `nonce` and `last_block`.\"\"\"\n",
    "    new_block_index: int = last_block.index + 1\n",
    "    return Block(\n",
    "        index=new_block_index,\n",
    "        timestamp=date.datetime.now(),\n",
    "        data=f\"Hey! I'm block {new_block_index}\",\n",
    "        previous_hash=last_block.hash,\n",
    "    )\n"
   ]
  },
  {
   "cell_type": "markdown",
   "metadata": {},
   "source": [
    "**TEST YOUR QUESTION 2 CODE HERE**\n",
    "\n",
    "Run the block of code below"
   ]
  },
  {
   "cell_type": "code",
   "execution_count": 133,
   "metadata": {},
   "outputs": [
    {
     "name": "stdout",
     "output_type": "stream",
     "text": [
      "PASSED!!! Move on to next part\n"
     ]
    }
   ],
   "source": [
    "def test_question_2(genesis_block):\n",
    "    block_1 = next_block(genesis_block)\n",
    "    if block_1.index == 1 and block_1.data == \"Hey! I'm block 1\" and block_1.previous_hash == genesis_block.hash and str(type(block_1.timestamp)) == \"<class 'datetime.datetime'>\":\n",
    "        print(\"PASSED!!! Move on to next part\" )\n",
    "    else:\n",
    "        print(\"FAILED!!! Try again :(\")\n",
    "\n",
    "\n",
    "genesis_block = create_genesis_block()\n",
    "test_question_2(genesis_block)"
   ]
  },
  {
   "cell_type": "markdown",
   "metadata": {},
   "source": [
    "**Spinning up a Chain**\n",
    "\n",
    "Now that we've created the data structure as well as the functions needed to create the chain, lets see how spinning up an actual instance of this would work.\n",
    "\n",
    "Below we initialize three different variables\n",
    "- blockchain - this is a python list which we initialize with one block inside (the genesis block)\n",
    "- previous_block - this points to our genesis block (since it references the first element in blockchain)\n",
    "- num_blocks - this specifies the number of additional blocks we want to add to our chain\n",
    "\n",
    "**QUESTION 3 complete_chain()**\n",
    "\n",
    "We want to complete the implementation of the function complete_chain(). This function takes in three inputs, which correspond to the initializations that we made. It returns nothing, however by the time we are done running it, the list 'blockchain' that we initialized earlier has been turned into an array of length num_blocks + 1 in which each element is an instance of class Block and each element's self.previous_hash == the previous element's self.hash. Therefore we have created our own mini blockchain!!\n",
    "\n",
    "The for loop and the print statements of complete_chain have been implemented for you, you need to add the statements that ***create a new block on top of previous_block, add it to the block chain, and edit previous block so that the for loop can continue correctly***\n",
    "\n",
    "****HINT **** --> Literally just do all the things listed in the section immediately above in order\n",
    "\n",
    "If it works out, you should get the same number of print statements as num_blocks"
   ]
  },
  {
   "cell_type": "code",
   "execution_count": 134,
   "metadata": {},
   "outputs": [
    {
     "name": "stdout",
     "output_type": "stream",
     "text": [
      "Block #1 has been added to the blockchain!\n",
      "Hash: 73fb05e5488a7562c5fcc6731e04f0f53abfbc63ef70ed24c09bb461517be340\n",
      "\n",
      "Block #2 has been added to the blockchain!\n",
      "Hash: 1d947fcc9637bf9e9919aa4d56b3d8f6eee4695e2428221d6e9d51610f59c950\n",
      "\n",
      "Block #3 has been added to the blockchain!\n",
      "Hash: 1e1c2540268d95ccefedbb465ea13b03ce770441dda63cd406559c5a848de6c8\n",
      "\n",
      "Block #4 has been added to the blockchain!\n",
      "Hash: c8ba4ededac897c1085a85940085225267d67446b9274de847ee6e79286c627b\n",
      "\n",
      "Block #5 has been added to the blockchain!\n",
      "Hash: 96ad52e075519dc3be26dc79722abc6c8e4a68b1e8bd4a2e02ae1b300f0e7376\n",
      "\n",
      "Block #6 has been added to the blockchain!\n",
      "Hash: 8c8a9872b20ccfb7eacf7b7e0cda5927bf4e272495da3f3170f16122283c9d9f\n",
      "\n",
      "Block #7 has been added to the blockchain!\n",
      "Hash: f04fc513bb10c960cb93f72bb686c42930eb8cd5ec5a28423328c9599e094a22\n",
      "\n",
      "Block #8 has been added to the blockchain!\n",
      "Hash: bd2c14c86eaa5a515482505f478c57f3ec360a574ce8205874117e3fa9d3a113\n",
      "\n",
      "Block #9 has been added to the blockchain!\n",
      "Hash: 520072e218c613e5023d9446e0dc055dc732aac91d7b64c95bff80e8d1d9595f\n",
      "\n",
      "Block #10 has been added to the blockchain!\n",
      "Hash: 3c4f2d70dd45aceded45496678e00ba75c91d1af1ab4a93a12f878cde5f4ce6a\n",
      "\n",
      "Block #11 has been added to the blockchain!\n",
      "Hash: 080d8a028378b561be1d5bebd7e5393d04213dc8106c63f6bd022799383e654b\n",
      "\n",
      "Block #12 has been added to the blockchain!\n",
      "Hash: e1512e1b6e5e63d8adc5dc30fe8a92c998c0caa17ca2e9ee58def1c417f9838b\n",
      "\n",
      "Block #13 has been added to the blockchain!\n",
      "Hash: 25ad62fb6becee2a5dd129a7ffeca88964acdcb7ef6ce2ca4c377116f8e7c767\n",
      "\n",
      "Block #14 has been added to the blockchain!\n",
      "Hash: faa6aa812da291832e37612c9714d3e57b9cdcebf8530872d5fdb54a718f08ca\n",
      "\n",
      "Block #15 has been added to the blockchain!\n",
      "Hash: 39a57a409cec8dc6513d6d82a7c0ae3e54dd5da6fda452adaf9e57f000d147b4\n",
      "\n",
      "Block #16 has been added to the blockchain!\n",
      "Hash: ab9566e39ba3cc5be03c72b544eddc6f5eaf1125704e5928d2501f5bdd39f280\n",
      "\n",
      "Block #17 has been added to the blockchain!\n",
      "Hash: 15e72f6b91ea3bb5f8dc985ba9e473f5ea96797b3e6b1598150d75e2547540f3\n",
      "\n",
      "Block #18 has been added to the blockchain!\n",
      "Hash: 11fa4d93069219c2a7821d2142d4b9eab3ef5653d9fce888cbfa9d6c7c937dfc\n",
      "\n",
      "Block #19 has been added to the blockchain!\n",
      "Hash: 195c709537a0bdd2e5613f32c4f8899f2ced510c9ddbdb9861e4f8b3b95526a4\n",
      "\n",
      "Block #20 has been added to the blockchain!\n",
      "Hash: c3f751cf49c40be0d4964c7aec32e1d36d139f383626013324eb4738206d8c44\n",
      "\n"
     ]
    }
   ],
   "source": [
    "from typing import List\n",
    "\n",
    "# Create the blockchain and add the genesis block\n",
    "blockchain = [create_genesis_block()]\n",
    "\n",
    "#Create our initial reference to previous block which points to the genesis block\n",
    "previous_block = blockchain[0]\n",
    "\n",
    "# How many blocks should we add to the chain after the genesis block\n",
    "num_blocks = 20\n",
    "\n",
    "def complete_chain(num_blocks: int, blockchain: List[Block], previous_block: Block) -> None:\n",
    "    # Add blocks to the chain\n",
    "    for block_index in range(0, num_blocks):\n",
    "        # Your code for QUESTION 3 Here\n",
    "        block_to_add = next_block(previous_block)\n",
    "        blockchain.append(block_to_add)\n",
    "        previous_block = block_to_add\n",
    "        #Your code for QUESTION 3 ends Here\n",
    "        # Tell everyone about it!\n",
    "        print(\"Block #{} has been added to the blockchain!\".format(block_to_add.index))\n",
    "        print(\"Hash: {}\\n\".format(block_to_add.hash))\n",
    "\n",
    "\n",
    "complete_chain(num_blocks, blockchain, previous_block)"
   ]
  },
  {
   "cell_type": "markdown",
   "metadata": {},
   "source": [
    "**TEST YOUR QUESTION 3 CODE HERE**\n",
    "\n",
    "Run the block of code below"
   ]
  },
  {
   "cell_type": "code",
   "execution_count": 135,
   "metadata": {},
   "outputs": [
    {
     "name": "stdout",
     "output_type": "stream",
     "text": [
      "PASSED!!! Move on to the next Part\n"
     ]
    }
   ],
   "source": [
    "def test_question_3(blockchain, num_blocks):\n",
    "    correct = True\n",
    "    if len(blockchain) != num_blocks + 1:\n",
    "        correct = False\n",
    "    for i in range(len(blockchain)-1):\n",
    "        if blockchain[i + 1].previous_hash != blockchain[i].hash:\n",
    "            correct = False\n",
    "            break\n",
    "    print_statement = \"PASSED!!! Move on to the next Part\" if correct else \"FAILED!!! Try Again :(\"\n",
    "    print(print_statement)\n",
    "\n",
    "test_question_3(blockchain, num_blocks)"
   ]
  },
  {
   "cell_type": "markdown",
   "metadata": {},
   "source": [
    "# Proof of Work Simulation"
   ]
  },
  {
   "cell_type": "markdown",
   "metadata": {},
   "source": [
    "In this section we will be doing a simulation of the proof-of-work consensus mechanism that the Bitcoin Blockchain (among others) uses. Let us define some of the concepts that we will be dealing with in this section.\n",
    "\n",
    "**The Nonce** --> Randomly generated value that we add to our concatenation of our block to add variance to our hashes\n",
    "\n",
    "**Difficulty** --> Specified by the network (in theory, here it is specified by us). Defines the number of hashes that are valid out of all possible values. Higher difficulty indicates a lower number of valid hashes.\n",
    "\n",
    "**QUESTION 4: generate_nonce(), generate_difficulty_bound(), find_next_block()**\n",
    "\n",
    "**Part 1 - Description**\n",
    "\n",
    "The functions **generate_nonce()** and **generate_difficulty_bound()** have been implemented below for you. The first part of this question involves reading through, them understanding them completely, and writing a quick 1 - 2 line summary of what they are supposed to do and how they are implemented (write it in the space given, 2 cells below).\n",
    "\n",
    "**Part 2 - Implementation**\n",
    "\n",
    "The second part of this question is to complete the implementation of find_next_block(). This function's purpose is to try different blocks with the same data, index etc. but different nonces that satisfy the difficulty metric specified. The difficulty bound has already been generated for you and the first block has been created. You have to complete the implementation so that:\n",
    "- You find a nonce such that the hash of the block is less than the difficulty bound.\n",
    "- All data from new block has to be the same (including the timestamp, for simplicity purposes) and the only thing changing is the nonce\n",
    "- For our learning purposes, increment the hashes_tried parameter appropriately everytime you try a hash so that we can see the number of hashes tried and how this correlates to our difficulty value.\n",
    "\n",
    "**HINTS**\n",
    "- How do you turn a hash string into its hex prepresentation that you can compare???\n",
    "- if your implementation is working, you should notice something interesting about all the hashes of the blocks that you are getting when you run the code cell labeled \"Create Proof of work Blockchain\"**\n",
    "\n",
    "\n",
    "\n",
    "**you can test question 4 in the a few cells below this one, after running all the cells in between**"
   ]
  },
  {
   "cell_type": "code",
   "execution_count": 136,
   "metadata": {},
   "outputs": [],
   "source": [
    "import time\n",
    "from typing import Tuple\n",
    "\n",
    "def generate_nonce(length: int = 20) -> str:\n",
    "    return ''.join([str(rand.randint(0, 9)) for _ in range(length)])\n",
    "\n",
    "def generate_difficulty_bound(difficulty: int = 1) -> int:\n",
    "    diff_str = \"\"\n",
    "    for i in range(difficulty):\n",
    "        diff_str += '0'\n",
    "    for i in range(64 - difficulty):\n",
    "        diff_str += 'F'\n",
    "    diff_str = \"0x\" + diff_str  # \"0x\" needs to be added at the front to specify that it is a hex representation\n",
    "    return int(diff_str, 16)  # Specifies that we want to create an integer of base 16 (as opposed to the default base 10)\n",
    "\n",
    "# Given a previous block and a difficulty metric, finds a nonce that results in a lower hash value\n",
    "def find_next_block(last_block: Block, difficulty: int, nonce_length: int) -> Tuple[float, int, Block]:\n",
    "    difficulty_bound = generate_difficulty_bound(difficulty)\n",
    "    start = time.process_time()\n",
    "    new_block = next_block(last_block)\n",
    "    hashes_tried = 1\n",
    "    #Your code for QUESTION 4 Starts here\n",
    "    block_found: bool = False\n",
    "    while not block_found:\n",
    "        hashes_tried += 1\n",
    "        new_block.nonce = generate_nonce(nonce_length)\n",
    "        new_block.hash = new_block.hash_block()\n",
    "        if int(new_block.hash, 16) < difficulty_bound:\n",
    "            block_found = True\n",
    "    #Your code for QUESTION 4 Ends here\n",
    "    time_taken = time.process_time() - start\n",
    "    return time_taken, hashes_tried, new_block"
   ]
  },
  {
   "cell_type": "markdown",
   "metadata": {},
   "source": [
    "**QUESTION 4 Description Section**\n",
    "\n",
    "Describe the following functions:\n",
    "\n",
    "- generate_nonce():         ######Your Description Here######\n",
    "\n",
    "- generate_difficulty_bound():        ######Your Description Here######"
   ]
  },
  {
   "cell_type": "markdown",
   "metadata": {},
   "source": [
    "The cell below creates our proof of work blockchain in a similar way that we do in the earlier section.\n",
    "\n",
    "Some initializations:\n",
    "- blockchain_pow: Our new python list that signifies our proof of work blockchain, with the genesis block inside\n",
    "- previous_block: The first block to use as previous block to build upon\n",
    "- num_blocks: number of additional blocks to add to teh chain\n",
    "- difficulty: difficulty of the network\n",
    "- nonce_length: length of the randomly generated nonce"
   ]
  },
  {
   "cell_type": "markdown",
   "metadata": {},
   "source": [
    "### Create Proof of Work Blockchain"
   ]
  },
  {
   "cell_type": "code",
   "execution_count": 137,
   "metadata": {},
   "outputs": [
    {
     "name": "stdout",
     "output_type": "stream",
     "text": [
      "Block #1 has been added to the blockchain!\n",
      "2598 Hashes Tried!\n",
      "Time taken to find block: 0.046875\n",
      "Hash: 000716d3ec63e13546d7630d3d7c5cb2ade2ec119097d7b0f29c319bd7bce8f2\n",
      "\n",
      "Block #2 has been added to the blockchain!\n",
      "4063 Hashes Tried!\n",
      "Time taken to find block: 0.078125\n",
      "Hash: 0003fb8875a8c1d553d9351cd4827c8f697786566c3b6cb5a0c7aaf797997af8\n",
      "\n",
      "Block #3 has been added to the blockchain!\n",
      "1532 Hashes Tried!\n",
      "Time taken to find block: 0.03125\n",
      "Hash: 0006c68c5c670ee64051c798fc706fccaaacbc664bbe9ed56d3441160f36993c\n",
      "\n",
      "Block #4 has been added to the blockchain!\n",
      "5273 Hashes Tried!\n",
      "Time taken to find block: 0.09375\n",
      "Hash: 000b7213ffd529f48795fdc0a97066fadaa6d5d2b61e23f0d5e9954f4dca0827\n",
      "\n",
      "Block #5 has been added to the blockchain!\n",
      "2894 Hashes Tried!\n",
      "Time taken to find block: 0.046875\n",
      "Hash: 0001be654bcbb99c7858f1f6911f639ad2604e925666c55127cb153f6dec2c28\n",
      "\n",
      "Block #6 has been added to the blockchain!\n",
      "14346 Hashes Tried!\n",
      "Time taken to find block: 0.265625\n",
      "Hash: 0002eaf938b3752b3299cdcbb76500e6a5722dd3ba76f720e276f9d12ca33edc\n",
      "\n",
      "Block #7 has been added to the blockchain!\n",
      "5609 Hashes Tried!\n",
      "Time taken to find block: 0.109375\n",
      "Hash: 000512e45ad0748271e8b19f754cdf28af1fc9e93adbbaaf90583107c1df7439\n",
      "\n",
      "Block #8 has been added to the blockchain!\n",
      "3267 Hashes Tried!\n",
      "Time taken to find block: 0.0625\n",
      "Hash: 000a0c603afc04bd5fda0832782b272fcf426eb82ca1fba5797fd61f7144ac05\n",
      "\n",
      "Block #9 has been added to the blockchain!\n",
      "11665 Hashes Tried!\n",
      "Time taken to find block: 0.203125\n",
      "Hash: 00011337411458d76d20eae7b3910c0b2e3b41d8d5421c21ff2e443f47f34711\n",
      "\n",
      "Block #10 has been added to the blockchain!\n",
      "19130 Hashes Tried!\n",
      "Time taken to find block: 0.359375\n",
      "Hash: 00039f373a86c06abccf1b2f4210cc8dd71f61423993f60cfd26032ce5e0d9e0\n",
      "\n",
      "Block #11 has been added to the blockchain!\n",
      "6648 Hashes Tried!\n",
      "Time taken to find block: 0.109375\n",
      "Hash: 00082792b7f73578c0eea4e96b6ac72d7ef82fa9075454e48b54ed7e3ebc7249\n",
      "\n",
      "Block #12 has been added to the blockchain!\n",
      "2827 Hashes Tried!\n",
      "Time taken to find block: 0.0625\n",
      "Hash: 000785b46736668a516a793b1d58e5d67f07d508677957f0e52122b3365a2fb0\n",
      "\n",
      "Block #13 has been added to the blockchain!\n",
      "4957 Hashes Tried!\n",
      "Time taken to find block: 0.09375\n",
      "Hash: 00025d772a4e765938b40ebc0b69fbf398d2d25ac7c402bbd0f6f7b2976224b6\n",
      "\n",
      "Block #14 has been added to the blockchain!\n",
      "4076 Hashes Tried!\n",
      "Time taken to find block: 0.078125\n",
      "Hash: 000ed1c0dd047ef6e5a521f8c3230f8771ce7f5cae1270411d28904029de5f1a\n",
      "\n",
      "Block #15 has been added to the blockchain!\n",
      "793 Hashes Tried!\n",
      "Time taken to find block: 0.015625\n",
      "Hash: 0006f4b025870c34b391167e478cd244fbb4d45b05f60be825d48d95ed70322d\n",
      "\n",
      "Block #16 has been added to the blockchain!\n",
      "1248 Hashes Tried!\n",
      "Time taken to find block: 0.015625\n",
      "Hash: 0006a318c7d133808e95b19895ecb11b8448d548bf656b323888ed8517dbe9c5\n",
      "\n",
      "Block #17 has been added to the blockchain!\n",
      "10240 Hashes Tried!\n",
      "Time taken to find block: 0.203125\n",
      "Hash: 0008108a9d4bf85fd80e234212bf4749a780370816d804d859b553fe1244043a\n",
      "\n",
      "Block #18 has been added to the blockchain!\n",
      "4612 Hashes Tried!\n",
      "Time taken to find block: 0.09375\n",
      "Hash: 0003c688ccc2e5a269ab8e74e6255990ea31b648ca178c242f2e939a6a2c62c8\n",
      "\n",
      "Block #19 has been added to the blockchain!\n",
      "4742 Hashes Tried!\n",
      "Time taken to find block: 0.078125\n",
      "Hash: 000c7ec71966f42c321ffc2f874abd050314345c651a6974fed238365319435b\n",
      "\n",
      "Block #20 has been added to the blockchain!\n",
      "7214 Hashes Tried!\n",
      "Time taken to find block: 0.140625\n",
      "Hash: 000fa5dd5ca9fe782e9fab88b923a961d0067e6e086c81a0e8ec0cdfe76ef65c\n",
      "\n"
     ]
    }
   ],
   "source": [
    "# Create the blockchain and add the genesis block\n",
    "blockchain_pow = [create_genesis_block()]\n",
    "\n",
    "#Create our initial reference to previous block which points to the genesis block\n",
    "previous_block = blockchain_pow[0]\n",
    "\n",
    "# How many blocks should we add to the chain after genesis block\n",
    "num_blocks = 20\n",
    "\n",
    "#magnitude of difficulty of hash - number of zeroes that must be in the beginning of the hash\n",
    "difficulty = 3\n",
    "\n",
    "#length of nonce that will be generated and added\n",
    "nonce_length = 20\n",
    "\n",
    "# Add blocks to the chain based on difficulty with nonces of length nonce_length\n",
    "def create_pow_blockchain(num_blocks, difficulty, blockchain_pow, previous_block, nonce_length, print_data=1):\n",
    "    hash_array = []\n",
    "    time_array = []\n",
    "    for i in range(0, num_blocks):\n",
    "        time_taken, hashes_tried, block_to_add = find_next_block(previous_block, difficulty, nonce_length)\n",
    "        blockchain_pow.append(block_to_add)\n",
    "        previous_block = block_to_add\n",
    "        hash_array.append(hashes_tried)\n",
    "        time_array.append(time_taken)\n",
    "        # Tell everyone about it!\n",
    "        if print_data:\n",
    "            print(\"Block #{} has been added to the blockchain!\".format(block_to_add.index))\n",
    "            print(\"{} Hashes Tried!\".format(hashes_tried))\n",
    "            print(\"Time taken to find block: {}\".format(time_taken))\n",
    "            print(\"Hash: {}\\n\".format(block_to_add.hash))\n",
    "    return hash_array, time_array\n",
    "\n",
    "hash_array, time_array = create_pow_blockchain(num_blocks, difficulty, blockchain_pow, previous_block, nonce_length)"
   ]
  },
  {
   "cell_type": "markdown",
   "metadata": {},
   "source": [
    "**TEST YOUR QUESTION 4 CODE HERE**\n",
    "\n",
    "Run the block of code below"
   ]
  },
  {
   "cell_type": "code",
   "execution_count": 138,
   "metadata": {},
   "outputs": [
    {
     "name": "stdout",
     "output_type": "stream",
     "text": [
      "PASSED!!! Move on to the next Part\n"
     ]
    }
   ],
   "source": [
    "def test_question_4(blockchain_pow, num_blocks):\n",
    "    correct = True\n",
    "    bound = generate_difficulty_bound(difficulty)\n",
    "    if len(blockchain_pow) != num_blocks + 1:\n",
    "        correct = False\n",
    "    for i in range(len(blockchain_pow) - 1):\n",
    "        if blockchain_pow[i + 1].previous_hash != blockchain_pow[i].hash:\n",
    "            correct = False\n",
    "            break\n",
    "        if int(blockchain_pow[i + 1].hash, 16) > bound:\n",
    "            correct = False\n",
    "            break\n",
    "    print_statement = \"PASSED!!! Move on to the next Part\" if correct else \"FAILED!!! Try Again :(\"\n",
    "    print(print_statement)\n",
    "\n",
    "test_question_4(blockchain_pow, num_blocks)"
   ]
  },
  {
   "cell_type": "markdown",
   "metadata": {},
   "source": [
    "Once you have passed the above test case, you can do things like play around with the difficulties and nonce lengths and seeing that happens"
   ]
  },
  {
   "cell_type": "markdown",
   "metadata": {},
   "source": [
    "# Note: The sections below are optional but super cool!"
   ]
  },
  {
   "cell_type": "markdown",
   "metadata": {},
   "source": [
    "# Distributed Network + Compute Power Simulation"
   ]
  },
  {
   "cell_type": "markdown",
   "metadata": {},
   "source": [
    "In this section, instead of simulating a single node that carries out all the proof of work calculations, we will create a bunch of different nodes that will all compete to find different blocks. These nodes will all have different compute powers that we will be able to specify. Below we will define the MinerNodeNaive class which has an init function to create an instance, as well as a try_hash function that allows it to try a hash and see if it works."
   ]
  },
  {
   "cell_type": "code",
   "execution_count": 139,
   "metadata": {},
   "outputs": [],
   "source": [
    "#Naive miner class that races with other miners to see who can get a certain number of blocks first\n",
    "class MinerNodeNaive:\n",
    "    def __init__(self, name, compute):\n",
    "        self.name = name\n",
    "        self.compute = compute\n",
    "\n",
    "    def try_hash(self, diff_value, chain):\n",
    "        last_block = chain[-1]\n",
    "        difficulty = generate_difficulty_bound(diff_value)\n",
    "        date_now = date.datetime.now()\n",
    "        this_index = last_block.index + 1\n",
    "        this_timestamp = date_now\n",
    "        this_data = \"Hey! I'm block \" + str(this_index)\n",
    "        this_hash = last_block.hash\n",
    "        new_block = Block(this_index, this_timestamp, this_data, this_hash)\n",
    "        if int(new_block.hash, 16) < difficulty:\n",
    "            chain.append(new_block)\n",
    "            # Tell everyone about it!\n",
    "            print(\"Block #{} has been added to the blockchain!\".format(new_block.index))\n",
    "            print(\"Block found by: {}\".format(self.name))\n",
    "            print(\"Hash: {}\\n\".format(new_block.hash))\n"
   ]
  },
  {
   "cell_type": "markdown",
   "metadata": {},
   "source": [
    "**Question #5: Describe the Following Cells**\n",
    "\n",
    "In the next 4 cells I try to simulate a bunch of different miners with different compute powers. However this isn't completely indicative of how a real system works, and is limited by what I had to work with. Read through the code, and run all of the cells and explain what is happening in a paragrpah. Also explain how this is different from real world vanilla proof of work systems and how this simulation isn't completely accurate of what's actually happening while nodes race to find the next block. There is a cell at the bottom where you can enter your description."
   ]
  },
  {
   "cell_type": "code",
   "execution_count": 140,
   "metadata": {},
   "outputs": [],
   "source": [
    "#Initialize multiple miners on the network\n",
    "berkeley_Miner = MinerNodeNaive(\"Berkeley Miner\", 10)\n",
    "stanford_Miner = MinerNodeNaive(\"Stanford Miner\", 5)\n",
    "MIT_Miner = MinerNodeNaive(\"MIT Miner\", 2)\n",
    "UCLA_Miner = MinerNodeNaive(\"UCLA Miner\", 1)\n",
    "\n",
    "miner_array = [berkeley_Miner, stanford_Miner, MIT_Miner, UCLA_Miner]"
   ]
  },
  {
   "cell_type": "code",
   "execution_count": 141,
   "metadata": {},
   "outputs": [],
   "source": [
    "def create_compute_simulation(miner_array):\n",
    "    compute_array = []\n",
    "    for miner in miner_array:\n",
    "        for i in range(miner.compute):\n",
    "            compute_array.append(miner.name)\n",
    "    return(compute_array)\n",
    "\n",
    "compute_simulation_array = create_compute_simulation(miner_array)\n",
    "rand.shuffle(compute_simulation_array)"
   ]
  },
  {
   "cell_type": "code",
   "execution_count": 142,
   "metadata": {},
   "outputs": [],
   "source": [
    "chain_length = 20\n",
    "blockchain_distributed = [create_genesis_block()]\n",
    "genesis_block_dist = blockchain_distributed[0]\n",
    "chain_difficulty = [rand.randint(2,4) for i in range(chain_length)]"
   ]
  },
  {
   "cell_type": "code",
   "execution_count": 143,
   "metadata": {},
   "outputs": [
    {
     "name": "stdout",
     "output_type": "stream",
     "text": [
      "Block #1 has been added to the blockchain!\n",
      "Block found by: Berkeley Miner\n",
      "Hash: 0055ac88bf536d4c69d94cf43421e74376be4b432274fdff7eb63dc65f753640\n",
      "\n",
      "Block #2 has been added to the blockchain!\n",
      "Block found by: UCLA Miner\n",
      "Hash: 00005f7a51c0cb14840fc2802a7b49ffeecb74cd38b64ef113c82b0539fdd895\n",
      "\n"
     ]
    },
    {
     "ename": "KeyboardInterrupt",
     "evalue": "",
     "output_type": "error",
     "traceback": [
      "\u001B[1;31m---------------------------------------------------------------------------\u001B[0m",
      "\u001B[1;31mKeyboardInterrupt\u001B[0m                         Traceback (most recent call last)",
      "Input \u001B[1;32mIn [143]\u001B[0m, in \u001B[0;36m<module>\u001B[1;34m\u001B[0m\n\u001B[0;32m      1\u001B[0m \u001B[38;5;28;01mfor\u001B[39;00m i \u001B[38;5;129;01min\u001B[39;00m \u001B[38;5;28mrange\u001B[39m(\u001B[38;5;28mlen\u001B[39m(chain_difficulty)):\n\u001B[0;32m      2\u001B[0m     \u001B[38;5;28;01mwhile\u001B[39;00m \u001B[38;5;28mlen\u001B[39m(blockchain_distributed) \u001B[38;5;241m<\u001B[39m i \u001B[38;5;241m+\u001B[39m \u001B[38;5;241m2\u001B[39m:\n\u001B[1;32m----> 3\u001B[0m         next_miner_str \u001B[38;5;241m=\u001B[39m \u001B[43mrand\u001B[49m\u001B[38;5;241;43m.\u001B[39;49m\u001B[43msample\u001B[49m\u001B[43m(\u001B[49m\u001B[43mcompute_simulation_array\u001B[49m\u001B[43m,\u001B[49m\u001B[43m \u001B[49m\u001B[38;5;241;43m1\u001B[39;49m\u001B[43m)\u001B[49m[\u001B[38;5;241m0\u001B[39m]\n\u001B[0;32m      4\u001B[0m         next_miner \u001B[38;5;241m=\u001B[39m berkeley_Miner \u001B[38;5;66;03m#random default (go bears)\u001B[39;00m\n\u001B[0;32m      5\u001B[0m         \u001B[38;5;28;01mfor\u001B[39;00m miner \u001B[38;5;129;01min\u001B[39;00m miner_array:\n",
      "File \u001B[1;32mC:\\Python39\\lib\\random.py:450\u001B[0m, in \u001B[0;36mRandom.sample\u001B[1;34m(self, population, k, counts)\u001B[0m\n\u001B[0;32m    448\u001B[0m \u001B[38;5;28;01mif\u001B[39;00m \u001B[38;5;129;01mnot\u001B[39;00m \u001B[38;5;241m0\u001B[39m \u001B[38;5;241m<\u001B[39m\u001B[38;5;241m=\u001B[39m k \u001B[38;5;241m<\u001B[39m\u001B[38;5;241m=\u001B[39m n:\n\u001B[0;32m    449\u001B[0m     \u001B[38;5;28;01mraise\u001B[39;00m \u001B[38;5;167;01mValueError\u001B[39;00m(\u001B[38;5;124m\"\u001B[39m\u001B[38;5;124mSample larger than population or is negative\u001B[39m\u001B[38;5;124m\"\u001B[39m)\n\u001B[1;32m--> 450\u001B[0m result \u001B[38;5;241m=\u001B[39m \u001B[43m[\u001B[49m\u001B[38;5;28;43;01mNone\u001B[39;49;00m\u001B[43m]\u001B[49m\u001B[43m \u001B[49m\u001B[38;5;241;43m*\u001B[39;49m\u001B[43m \u001B[49m\u001B[43mk\u001B[49m\n\u001B[0;32m    451\u001B[0m setsize \u001B[38;5;241m=\u001B[39m \u001B[38;5;241m21\u001B[39m        \u001B[38;5;66;03m# size of a small set minus size of an empty list\u001B[39;00m\n\u001B[0;32m    452\u001B[0m \u001B[38;5;28;01mif\u001B[39;00m k \u001B[38;5;241m>\u001B[39m \u001B[38;5;241m5\u001B[39m:\n",
      "\u001B[1;31mKeyboardInterrupt\u001B[0m: "
     ]
    }
   ],
   "source": [
    "for i in range(len(chain_difficulty)):\n",
    "    while len(blockchain_distributed) < i + 2:\n",
    "        next_miner_str = rand.sample(compute_simulation_array, 1)[0]\n",
    "        next_miner = berkeley_Miner #random default (go bears)\n",
    "        for miner in miner_array:\n",
    "            if next_miner_str == miner.name:\n",
    "                next_miner = miner\n",
    "        next_miner.try_hash(chain_difficulty[i], blockchain_distributed)\n"
   ]
  },
  {
   "cell_type": "markdown",
   "metadata": {},
   "source": [
    "**Question 5 Description Here**\n",
    "\n",
    "- Description: **#####Your description here####**"
   ]
  },
  {
   "cell_type": "markdown",
   "metadata": {
    "collapsed": true
   },
   "source": [
    "# Blockchain Data Analytics"
   ]
  },
  {
   "cell_type": "markdown",
   "metadata": {
    "collapsed": true
   },
   "source": [
    "Here we will use data analytics to analyze the number of hashes we need to try before we find a valid hash, given a difficulty level. Look through the code briefly (in depth is not necessary), run all of the cells, and answer the question at the bottom. (difficulty level 3 takes a bit of time so dont be alarmed if this next cell takes a bit of time to run)."
   ]
  },
  {
   "cell_type": "code",
   "execution_count": null,
   "metadata": {},
   "outputs": [],
   "source": [
    "blockchain = [create_genesis_block()]\n",
    "previous_block = blockchain[0]\n",
    "num_blocks = 10\n",
    "\n",
    "#3 different types of difficulty to analyze\n",
    "difficulty_0 = 1\n",
    "difficulty_1 = 2\n",
    "difficulty_2 = 3\n",
    "difficulty_3 = 4\n",
    "\n",
    "nonce_length = 20\n",
    "\n",
    "hash_array_0, time_array_0 = create_pow_blockchain(num_blocks, difficulty_0, blockchain, previous_block, nonce_length, 0)\n",
    "print(\"Difficulty Level: {} complete\".format(difficulty_0))\n",
    "hash_array_1, time_array_1 = create_pow_blockchain(num_blocks, difficulty_1, blockchain, previous_block, nonce_length, 0)\n",
    "print(\"Difficulty Level: {} complete\".format(difficulty_1))\n",
    "hash_array_2, time_array_2 = create_pow_blockchain(num_blocks, difficulty_2, blockchain, previous_block, nonce_length, 0)\n",
    "print(\"Difficulty Level: {} complete\".format(difficulty_2))\n",
    "hash_array_3, time_array_3 = create_pow_blockchain(num_blocks, difficulty_3, blockchain, previous_block, nonce_length, 0)\n",
    "print(\"Difficulty Level: {} complete\".format(difficulty_3))"
   ]
  },
  {
   "cell_type": "code",
   "execution_count": null,
   "metadata": {},
   "outputs": [],
   "source": [
    "mean_arr_hash = [np.mean(hash_array_0), np.mean(hash_array_1), np.mean(hash_array_2), np.mean(hash_array_3)]\n",
    "mean_arr_time = [np.mean(time_array_0), np.mean(time_array_1), np.mean(time_array_2), np.mean(time_array_3)]"
   ]
  },
  {
   "cell_type": "code",
   "execution_count": null,
   "metadata": {},
   "outputs": [],
   "source": [
    "plt.plot(mean_arr_hash)\n",
    "plt.show()"
   ]
  },
  {
   "cell_type": "code",
   "execution_count": null,
   "metadata": {},
   "outputs": [],
   "source": [
    "plt.plot(mean_arr_time)\n",
    "plt.show()"
   ]
  },
  {
   "cell_type": "code",
   "execution_count": null,
   "metadata": {},
   "outputs": [],
   "source": [
    "diff_factor_1 = np.mean(hash_array_1)/np.mean(hash_array_0)\n",
    "diff_factor_2 = np.mean(hash_array_2)/np.mean(hash_array_1)\n",
    "diff_factor_3 = np.mean(hash_array_3)/np.mean(hash_array_2)\n",
    "print(\"Factor of difficulty increase from 1 to 2: {}\".format(diff_factor_1))\n",
    "print(\"Factor of difficulty increase from 2 to 3: {}\".format(diff_factor_2))\n",
    "print(\"Factor of difficulty increase from 3 to 4: {}\".format(diff_factor_3))"
   ]
  },
  {
   "cell_type": "markdown",
   "metadata": {},
   "source": [
    "**Question 6: This one is simple**\n",
    "\n",
    "Look at the factor of difficulty increase from each level to the subsequent level, printed from the cell above.\n",
    "\n",
    "What whould the factor of difficulty increase be for each level: **Your answer Here**"
   ]
  },
  {
   "cell_type": "markdown",
   "metadata": {},
   "source": [
    "**Check Off**\n",
    "\n",
    "If you have filled out all the skeleton code and put down your answers for the questions, let any of the instructor know and we will check you off!\n",
    "\n",
    "If you cannot finish it this class, you have until next week's class to finish check off and earn points.\n"
   ]
  }
 ],
 "metadata": {
  "kernelspec": {
   "display_name": "Python 3",
   "language": "python",
   "name": "python3"
  }
 },
 "nbformat": 4,
 "nbformat_minor": 2
}